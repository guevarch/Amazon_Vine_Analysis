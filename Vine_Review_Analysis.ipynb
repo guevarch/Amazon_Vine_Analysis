{
 "cells": [
  {
   "cell_type": "code",
   "execution_count": 1,
   "id": "8ff3eaff",
   "metadata": {},
   "outputs": [],
   "source": [
    "import pandas as pd\n",
    "df = pd.read_csv('vine_tables')"
   ]
  },
  {
   "cell_type": "code",
   "execution_count": 2,
   "id": "fd0daa9c",
   "metadata": {},
   "outputs": [
    {
     "data": {
      "text/plain": [
       "review_id            9002021\n",
       "star_rating          9001881\n",
       "helpful_votes        9001881\n",
       "total_votes          9001881\n",
       "vine                 9001881\n",
       "verified_purchase    9001881\n",
       "dtype: int64"
      ]
     },
     "execution_count": 2,
     "metadata": {},
     "output_type": "execute_result"
    }
   ],
   "source": [
    "df.count()"
   ]
  },
  {
   "cell_type": "code",
   "execution_count": 3,
   "id": "57f69ee9",
   "metadata": {},
   "outputs": [
    {
     "data": {
      "text/html": [
       "<div>\n",
       "<style scoped>\n",
       "    .dataframe tbody tr th:only-of-type {\n",
       "        vertical-align: middle;\n",
       "    }\n",
       "\n",
       "    .dataframe tbody tr th {\n",
       "        vertical-align: top;\n",
       "    }\n",
       "\n",
       "    .dataframe thead th {\n",
       "        text-align: right;\n",
       "    }\n",
       "</style>\n",
       "<table border=\"1\" class=\"dataframe\">\n",
       "  <thead>\n",
       "    <tr style=\"text-align: right;\">\n",
       "      <th></th>\n",
       "      <th>review_id</th>\n",
       "      <th>star_rating</th>\n",
       "      <th>helpful_votes</th>\n",
       "      <th>total_votes</th>\n",
       "      <th>vine</th>\n",
       "      <th>verified_purchase</th>\n",
       "    </tr>\n",
       "  </thead>\n",
       "  <tbody>\n",
       "    <tr>\n",
       "      <th>0</th>\n",
       "      <td>R3W4P9UBGNGH1U</td>\n",
       "      <td>2.0</td>\n",
       "      <td>1.0</td>\n",
       "      <td>3.0</td>\n",
       "      <td>N</td>\n",
       "      <td>Y</td>\n",
       "    </tr>\n",
       "    <tr>\n",
       "      <th>1</th>\n",
       "      <td>R15V54KBMTQWAY</td>\n",
       "      <td>4.0</td>\n",
       "      <td>0.0</td>\n",
       "      <td>0.0</td>\n",
       "      <td>N</td>\n",
       "      <td>N</td>\n",
       "    </tr>\n",
       "    <tr>\n",
       "      <th>2</th>\n",
       "      <td>RY8I449HNXSVF</td>\n",
       "      <td>5.0</td>\n",
       "      <td>0.0</td>\n",
       "      <td>0.0</td>\n",
       "      <td>N</td>\n",
       "      <td>Y</td>\n",
       "    </tr>\n",
       "    <tr>\n",
       "      <th>3</th>\n",
       "      <td>R18TLJYCKJFLSR</td>\n",
       "      <td>5.0</td>\n",
       "      <td>0.0</td>\n",
       "      <td>0.0</td>\n",
       "      <td>N</td>\n",
       "      <td>Y</td>\n",
       "    </tr>\n",
       "    <tr>\n",
       "      <th>4</th>\n",
       "      <td>R1NK26SWS53B8Q</td>\n",
       "      <td>5.0</td>\n",
       "      <td>0.0</td>\n",
       "      <td>0.0</td>\n",
       "      <td>N</td>\n",
       "      <td>Y</td>\n",
       "    </tr>\n",
       "  </tbody>\n",
       "</table>\n",
       "</div>"
      ],
      "text/plain": [
       "        review_id  star_rating  helpful_votes  total_votes vine  \\\n",
       "0  R3W4P9UBGNGH1U          2.0            1.0          3.0    N   \n",
       "1  R15V54KBMTQWAY          4.0            0.0          0.0    N   \n",
       "2   RY8I449HNXSVF          5.0            0.0          0.0    N   \n",
       "3  R18TLJYCKJFLSR          5.0            0.0          0.0    N   \n",
       "4  R1NK26SWS53B8Q          5.0            0.0          0.0    N   \n",
       "\n",
       "  verified_purchase  \n",
       "0                 Y  \n",
       "1                 N  \n",
       "2                 Y  \n",
       "3                 Y  \n",
       "4                 Y  "
      ]
     },
     "execution_count": 3,
     "metadata": {},
     "output_type": "execute_result"
    }
   ],
   "source": [
    "df.head()"
   ]
  },
  {
   "cell_type": "code",
   "execution_count": 4,
   "id": "ba14442b",
   "metadata": {},
   "outputs": [
    {
     "data": {
      "text/plain": [
       "review_id             object\n",
       "star_rating          float64\n",
       "helpful_votes        float64\n",
       "total_votes          float64\n",
       "vine                  object\n",
       "verified_purchase     object\n",
       "dtype: object"
      ]
     },
     "execution_count": 4,
     "metadata": {},
     "output_type": "execute_result"
    }
   ],
   "source": [
    "df.dtypes"
   ]
  },
  {
   "cell_type": "code",
   "execution_count": 15,
   "id": "5c016529",
   "metadata": {},
   "outputs": [
    {
     "data": {
      "text/html": [
       "<div>\n",
       "<style scoped>\n",
       "    .dataframe tbody tr th:only-of-type {\n",
       "        vertical-align: middle;\n",
       "    }\n",
       "\n",
       "    .dataframe tbody tr th {\n",
       "        vertical-align: top;\n",
       "    }\n",
       "\n",
       "    .dataframe thead th {\n",
       "        text-align: right;\n",
       "    }\n",
       "</style>\n",
       "<table border=\"1\" class=\"dataframe\">\n",
       "  <thead>\n",
       "    <tr style=\"text-align: right;\">\n",
       "      <th></th>\n",
       "      <th>review_id</th>\n",
       "      <th>star_rating</th>\n",
       "      <th>helpful_votes</th>\n",
       "      <th>total_votes</th>\n",
       "      <th>vine</th>\n",
       "      <th>verified_purchase</th>\n",
       "      <th>percent</th>\n",
       "    </tr>\n",
       "  </thead>\n",
       "  <tbody>\n",
       "    <tr>\n",
       "      <th>0</th>\n",
       "      <td>R3W4P9UBGNGH1U</td>\n",
       "      <td>2.0</td>\n",
       "      <td>1.0</td>\n",
       "      <td>3.0</td>\n",
       "      <td>N</td>\n",
       "      <td>Y</td>\n",
       "      <td>0.333333</td>\n",
       "    </tr>\n",
       "    <tr>\n",
       "      <th>1</th>\n",
       "      <td>R15V54KBMTQWAY</td>\n",
       "      <td>4.0</td>\n",
       "      <td>0.0</td>\n",
       "      <td>0.0</td>\n",
       "      <td>N</td>\n",
       "      <td>N</td>\n",
       "      <td>NaN</td>\n",
       "    </tr>\n",
       "    <tr>\n",
       "      <th>2</th>\n",
       "      <td>RY8I449HNXSVF</td>\n",
       "      <td>5.0</td>\n",
       "      <td>0.0</td>\n",
       "      <td>0.0</td>\n",
       "      <td>N</td>\n",
       "      <td>Y</td>\n",
       "      <td>NaN</td>\n",
       "    </tr>\n",
       "    <tr>\n",
       "      <th>3</th>\n",
       "      <td>R18TLJYCKJFLSR</td>\n",
       "      <td>5.0</td>\n",
       "      <td>0.0</td>\n",
       "      <td>0.0</td>\n",
       "      <td>N</td>\n",
       "      <td>Y</td>\n",
       "      <td>NaN</td>\n",
       "    </tr>\n",
       "    <tr>\n",
       "      <th>4</th>\n",
       "      <td>R1NK26SWS53B8Q</td>\n",
       "      <td>5.0</td>\n",
       "      <td>0.0</td>\n",
       "      <td>0.0</td>\n",
       "      <td>N</td>\n",
       "      <td>Y</td>\n",
       "      <td>NaN</td>\n",
       "    </tr>\n",
       "  </tbody>\n",
       "</table>\n",
       "</div>"
      ],
      "text/plain": [
       "        review_id  star_rating  helpful_votes  total_votes vine  \\\n",
       "0  R3W4P9UBGNGH1U          2.0            1.0          3.0    N   \n",
       "1  R15V54KBMTQWAY          4.0            0.0          0.0    N   \n",
       "2   RY8I449HNXSVF          5.0            0.0          0.0    N   \n",
       "3  R18TLJYCKJFLSR          5.0            0.0          0.0    N   \n",
       "4  R1NK26SWS53B8Q          5.0            0.0          0.0    N   \n",
       "\n",
       "  verified_purchase   percent  \n",
       "0                 Y  0.333333  \n",
       "1                 N       NaN  \n",
       "2                 Y       NaN  \n",
       "3                 Y       NaN  \n",
       "4                 Y       NaN  "
      ]
     },
     "execution_count": 15,
     "metadata": {},
     "output_type": "execute_result"
    }
   ],
   "source": [
    "df['percent'] = df['helpful_votes']/df['total_votes']\n",
    "df.head()"
   ]
  },
  {
   "cell_type": "code",
   "execution_count": 25,
   "id": "c3d617c6",
   "metadata": {},
   "outputs": [
    {
     "name": "stdout",
     "output_type": "stream",
     "text": [
      "review_id            68164\n",
      "star_rating          68164\n",
      "helpful_votes        68164\n",
      "total_votes          68164\n",
      "vine                 68164\n",
      "verified_purchase    68164\n",
      "percent              68164\n",
      "dtype: int64\n"
     ]
    }
   ],
   "source": [
    "df20 = df.loc[df['total_votes'] > 20] \n",
    "print(df20.count())"
   ]
  },
  {
   "cell_type": "code",
   "execution_count": 21,
   "id": "2e8ebde9",
   "metadata": {},
   "outputs": [
    {
     "data": {
      "text/plain": [
       "review_id            585\n",
       "star_rating          585\n",
       "helpful_votes        585\n",
       "total_votes          585\n",
       "vine                 585\n",
       "verified_purchase    585\n",
       "percent              585\n",
       "dtype: int64"
      ]
     },
     "execution_count": 21,
     "metadata": {},
     "output_type": "execute_result"
    }
   ],
   "source": [
    "paidvine = df20.loc[(df20[\"vine\"]==\"Y\") & (df20[\"percent\"] >= .5)]\n",
    "paidvine.count()"
   ]
  },
  {
   "cell_type": "code",
   "execution_count": 22,
   "id": "26d03b0b",
   "metadata": {},
   "outputs": [
    {
     "data": {
      "text/plain": [
       "review_id            61139\n",
       "star_rating          61139\n",
       "helpful_votes        61139\n",
       "total_votes          61139\n",
       "vine                 61139\n",
       "verified_purchase    61139\n",
       "percent              61139\n",
       "dtype: int64"
      ]
     },
     "execution_count": 22,
     "metadata": {},
     "output_type": "execute_result"
    }
   ],
   "source": [
    "unpaidvine = df20.loc[(df20[\"vine\"]==\"N\") & (df20[\"percent\"] >= .5)]\n",
    "unpaidvine.count()"
   ]
  },
  {
   "cell_type": "code",
   "execution_count": 23,
   "id": "cbfe5f41",
   "metadata": {},
   "outputs": [
    {
     "data": {
      "text/plain": [
       "review_id            213\n",
       "star_rating          213\n",
       "helpful_votes        213\n",
       "total_votes          213\n",
       "vine                 213\n",
       "verified_purchase    213\n",
       "percent              213\n",
       "dtype: int64"
      ]
     },
     "execution_count": 23,
     "metadata": {},
     "output_type": "execute_result"
    }
   ],
   "source": [
    "fivestarreviewspaid = df20.loc[(df20[\"vine\"]==\"Y\") & (df20[\"percent\"] >= .5) & (df20[\"star_rating\"] == 5)]\n",
    "fivestarreviewspaid.count()"
   ]
  },
  {
   "cell_type": "code",
   "execution_count": 24,
   "id": "ad3f7a81",
   "metadata": {},
   "outputs": [
    {
     "data": {
      "text/plain": [
       "review_id            28839\n",
       "star_rating          28839\n",
       "helpful_votes        28839\n",
       "total_votes          28839\n",
       "vine                 28839\n",
       "verified_purchase    28839\n",
       "percent              28839\n",
       "dtype: int64"
      ]
     },
     "execution_count": 24,
     "metadata": {},
     "output_type": "execute_result"
    }
   ],
   "source": [
    "fivestarreviewsunpaid = df20.loc[(df20[\"vine\"]==\"N\") & (df20[\"percent\"] >= .5) & (df20[\"star_rating\"] == 5)]\n",
    "fivestarreviewsunpaid.count()"
   ]
  },
  {
   "cell_type": "code",
   "execution_count": 13,
   "id": "44501038",
   "metadata": {},
   "outputs": [
    {
     "data": {
      "text/plain": [
       "'42.31%'"
      ]
     },
     "execution_count": 13,
     "metadata": {},
     "output_type": "execute_result"
    }
   ],
   "source": [
    "percentfivestarreviewunpaid = fivestarreviewsunpaid['review_id'].count()/df20['review_id'].count() * 100\n",
    "percentfivestarreviewunpaid = \"{:.2f}%\".format(percentfivestarreviewunpaid)\n",
    "percentfivestarreviewunpaid"
   ]
  },
  {
   "cell_type": "code",
   "execution_count": 14,
   "id": "ccd26314",
   "metadata": {},
   "outputs": [
    {
     "data": {
      "text/plain": [
       "'0.31%'"
      ]
     },
     "execution_count": 14,
     "metadata": {},
     "output_type": "execute_result"
    }
   ],
   "source": [
    "percentfivestarreviewpaid = fivestarreviewspaid['review_id'].count()/df20['review_id'].count() * 100\n",
    "percentfivestarreviewpaid = \"{:.2f}%\".format(percentfivestarreviewpaid)\n",
    "percentfivestarreviewpaid"
   ]
  },
  {
   "cell_type": "code",
   "execution_count": null,
   "id": "b6fa44e9",
   "metadata": {},
   "outputs": [],
   "source": []
  }
 ],
 "metadata": {
  "kernelspec": {
   "display_name": "PythonData",
   "language": "python",
   "name": "pythondata"
  },
  "language_info": {
   "codemirror_mode": {
    "name": "ipython",
    "version": 3
   },
   "file_extension": ".py",
   "mimetype": "text/x-python",
   "name": "python",
   "nbconvert_exporter": "python",
   "pygments_lexer": "ipython3",
   "version": "3.9.12"
  }
 },
 "nbformat": 4,
 "nbformat_minor": 5
}
